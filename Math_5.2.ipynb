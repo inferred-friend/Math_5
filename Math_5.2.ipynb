{
 "cells": [
  {
   "cell_type": "code",
   "execution_count": 10,
   "id": "fb5f6ce7",
   "metadata": {},
   "outputs": [
    {
     "name": "stdout",
     "output_type": "stream",
     "text": [
      "True\n",
      "45 155 200\n"
     ]
    }
   ],
   "source": [
    "k,m,l = 0, 0, 0\n",
    "n = 200\n",
    "for i in range(0, n):\n",
    "    x = np.random.uniform(0, 20)\n",
    "    l=l+1\n",
    "    if x<5:\n",
    "        k = k + 1 \n",
    "    else:\n",
    "        m = m + 1\n",
    "if k+m==l:\n",
    "  print(True)\n",
    "else:\n",
    "  print(False)\n",
    "print(k,m,l)"
   ]
  },
  {
   "cell_type": "code",
   "execution_count": 11,
   "id": "e074a45d",
   "metadata": {},
   "outputs": [],
   "source": [
    "%matplotlib inline\n",
    "import numpy as np\n",
    "import matplotlib.pyplot as plt\n",
    "import matplotlib.mlab as mlab"
   ]
  },
  {
   "cell_type": "code",
   "execution_count": 13,
   "id": "df00f97e",
   "metadata": {},
   "outputs": [
    {
     "data": {
      "text/plain": [
       "Text(0.5, 1.0, 'Гистограмма')"
      ]
     },
     "execution_count": 13,
     "metadata": {},
     "output_type": "execute_result"
    },
    {
     "data": {
      "image/png": "[encoded data removed]",
      "text/plain": [
       "<Figure size 432x288 with 1 Axes>"
      ]
     },
     "metadata": {
      "needs_background": "light"
     },
     "output_type": "display_data"
    }
   ],
   "source": [
    "sums=[]\n",
    "for i in range(11):\n",
    "  x=np.random.rand(10)\n",
    "  sums.append(sum(x))\n",
    "  i+=1\n",
    "nums = 10\n",
    "n, bins, patches = plt.hist(sums, nums)\n",
    "plt.xlabel('Сумма')\n",
    "plt.ylabel('Вероятность')\n",
    "plt.title('Гистограмма')"
   ]
  },
  {
   "cell_type": "code",
   "execution_count": null,
   "id": "1b2457da",
   "metadata": {},
   "outputs": [],
   "source": []
  }
 ],
 "metadata": {
  "kernelspec": {
   "display_name": "Python 3",
   "language": "python",
   "name": "python3"
  },
  "language_info": {
   "codemirror_mode": {
    "name": "ipython",
    "version": 3
   },
   "file_extension": ".py",
   "mimetype": "text/x-python",
   "name": "python",
   "nbconvert_exporter": "python",
   "pygments_lexer": "ipython3",
   "version": "3.8.8"
  }
 },
 "nbformat": 4,
 "nbformat_minor": 5
}
